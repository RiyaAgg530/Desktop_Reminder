{
 "cells": [
  {
   "cell_type": "code",
   "execution_count": null,
   "id": "d3551b9c",
   "metadata": {},
   "outputs": [],
   "source": [
    "import time\n",
    "from plyer import notification\n",
    "if __name__ == '__main__':\n",
    "    while True:\n",
    "        notification.notify(\n",
    "            title = \"Health_Care\",\n",
    "            message = \"Please drink a glass of water because along with work its necessary \"\n",
    "             \"to take care of your health. \",\n",
    "            #for how much time the message displayed on the screen\n",
    "            timeout = 10 \n",
    "            \n",
    "        )\n",
    "        #after how much time the message wil again display on the screen\n",
    "        time.sleep(60*60)\n",
    "        "
   ]
  },
  {
   "cell_type": "code",
   "execution_count": null,
   "id": "3ef37e45",
   "metadata": {},
   "outputs": [],
   "source": []
  }
 ],
 "metadata": {
  "kernelspec": {
   "display_name": "Python 3 (ipykernel)",
   "language": "python",
   "name": "python3"
  },
  "language_info": {
   "codemirror_mode": {
    "name": "ipython",
    "version": 3
   },
   "file_extension": ".py",
   "mimetype": "text/x-python",
   "name": "python",
   "nbconvert_exporter": "python",
   "pygments_lexer": "ipython3",
   "version": "3.11.1"
  }
 },
 "nbformat": 4,
 "nbformat_minor": 5
}
